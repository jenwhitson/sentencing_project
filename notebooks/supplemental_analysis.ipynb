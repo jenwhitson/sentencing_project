{
 "cells": [
  {
   "cell_type": "code",
   "execution_count": 81,
   "metadata": {},
   "outputs": [],
   "source": [
    "import pandas as pd\n",
    "import matplotlib.pyplot as plt\n",
    "import seaborn as sns\n",
    "import numpy as np\n",
    "\n",
    "%matplotlib inline "
   ]
  },
  {
   "cell_type": "code",
   "execution_count": 2,
   "metadata": {},
   "outputs": [
    {
     "name": "stderr",
     "output_type": "stream",
     "text": [
      "C:\\Users\\jenwh\\anaconda3\\lib\\site-packages\\IPython\\core\\interactiveshell.py:3146: DtypeWarning: Columns (192,193) have mixed types.Specify dtype option on import or set low_memory=False.\n",
      "  has_raised = await self.run_ast_nodes(code_ast.body, cell_name,\n"
     ]
    },
    {
     "data": {
      "text/html": [
       "<div>\n",
       "<style scoped>\n",
       "    .dataframe tbody tr th:only-of-type {\n",
       "        vertical-align: middle;\n",
       "    }\n",
       "\n",
       "    .dataframe tbody tr th {\n",
       "        vertical-align: top;\n",
       "    }\n",
       "\n",
       "    .dataframe thead th {\n",
       "        text-align: right;\n",
       "    }\n",
       "</style>\n",
       "<table border=\"1\" class=\"dataframe\">\n",
       "  <thead>\n",
       "    <tr style=\"text-align: right;\">\n",
       "      <th></th>\n",
       "      <th>Unnamed: 0</th>\n",
       "      <th>ABUS1</th>\n",
       "      <th>ABUS2</th>\n",
       "      <th>ABUS3</th>\n",
       "      <th>ACCAP</th>\n",
       "      <th>ACCCAT</th>\n",
       "      <th>ACCGDLN</th>\n",
       "      <th>ACCOFFLV</th>\n",
       "      <th>ACCTRESP</th>\n",
       "      <th>ADJ_C1</th>\n",
       "      <th>...</th>\n",
       "      <th>ADJ_E2</th>\n",
       "      <th>ADJ_E3</th>\n",
       "      <th>TOTPRISN_YRS</th>\n",
       "      <th>AGE_RANGE</th>\n",
       "      <th>PLEA_TRIAL</th>\n",
       "      <th>TOTPRISN2</th>\n",
       "      <th>CRIMECODE</th>\n",
       "      <th>CRIMETYPE</th>\n",
       "      <th>VIOLENCE</th>\n",
       "      <th>YR_RANGE</th>\n",
       "    </tr>\n",
       "  </thead>\n",
       "  <tbody>\n",
       "    <tr>\n",
       "      <th>0</th>\n",
       "      <td>0</td>\n",
       "      <td>0.0</td>\n",
       "      <td>NaN</td>\n",
       "      <td>NaN</td>\n",
       "      <td>0.0</td>\n",
       "      <td>NaN</td>\n",
       "      <td>1.0</td>\n",
       "      <td>NaN</td>\n",
       "      <td>-3.0</td>\n",
       "      <td>0.0</td>\n",
       "      <td>...</td>\n",
       "      <td>NaN</td>\n",
       "      <td>NaN</td>\n",
       "      <td>1.750000</td>\n",
       "      <td>36-40</td>\n",
       "      <td>Plea</td>\n",
       "      <td>1.750000</td>\n",
       "      <td>21</td>\n",
       "      <td>drugs</td>\n",
       "      <td>Drug-Related</td>\n",
       "      <td>0-2</td>\n",
       "    </tr>\n",
       "    <tr>\n",
       "      <th>1</th>\n",
       "      <td>1</td>\n",
       "      <td>0.0</td>\n",
       "      <td>NaN</td>\n",
       "      <td>NaN</td>\n",
       "      <td>0.0</td>\n",
       "      <td>NaN</td>\n",
       "      <td>1.0</td>\n",
       "      <td>NaN</td>\n",
       "      <td>-3.0</td>\n",
       "      <td>0.0</td>\n",
       "      <td>...</td>\n",
       "      <td>NaN</td>\n",
       "      <td>NaN</td>\n",
       "      <td>16.666667</td>\n",
       "      <td>46-50</td>\n",
       "      <td>Plea</td>\n",
       "      <td>16.666667</td>\n",
       "      <td>21</td>\n",
       "      <td>drugs</td>\n",
       "      <td>Drug-Related</td>\n",
       "      <td>15-20</td>\n",
       "    </tr>\n",
       "    <tr>\n",
       "      <th>2</th>\n",
       "      <td>2</td>\n",
       "      <td>0.0</td>\n",
       "      <td>NaN</td>\n",
       "      <td>NaN</td>\n",
       "      <td>0.0</td>\n",
       "      <td>NaN</td>\n",
       "      <td>2.0</td>\n",
       "      <td>NaN</td>\n",
       "      <td>-3.0</td>\n",
       "      <td>0.0</td>\n",
       "      <td>...</td>\n",
       "      <td>NaN</td>\n",
       "      <td>NaN</td>\n",
       "      <td>2.500000</td>\n",
       "      <td>46-50</td>\n",
       "      <td>Plea</td>\n",
       "      <td>2.500000</td>\n",
       "      <td>21</td>\n",
       "      <td>drugs</td>\n",
       "      <td>Drug-Related</td>\n",
       "      <td>3-5</td>\n",
       "    </tr>\n",
       "    <tr>\n",
       "      <th>3</th>\n",
       "      <td>3</td>\n",
       "      <td>0.0</td>\n",
       "      <td>NaN</td>\n",
       "      <td>NaN</td>\n",
       "      <td>0.0</td>\n",
       "      <td>NaN</td>\n",
       "      <td>1.0</td>\n",
       "      <td>NaN</td>\n",
       "      <td>-3.0</td>\n",
       "      <td>0.0</td>\n",
       "      <td>...</td>\n",
       "      <td>NaN</td>\n",
       "      <td>NaN</td>\n",
       "      <td>2.500000</td>\n",
       "      <td>31-35</td>\n",
       "      <td>Plea</td>\n",
       "      <td>2.500000</td>\n",
       "      <td>18</td>\n",
       "      <td>firearms</td>\n",
       "      <td>Other Nonviolent</td>\n",
       "      <td>3-5</td>\n",
       "    </tr>\n",
       "    <tr>\n",
       "      <th>4</th>\n",
       "      <td>4</td>\n",
       "      <td>0.0</td>\n",
       "      <td>NaN</td>\n",
       "      <td>NaN</td>\n",
       "      <td>0.0</td>\n",
       "      <td>NaN</td>\n",
       "      <td>1.0</td>\n",
       "      <td>NaN</td>\n",
       "      <td>-2.0</td>\n",
       "      <td>0.0</td>\n",
       "      <td>...</td>\n",
       "      <td>NaN</td>\n",
       "      <td>NaN</td>\n",
       "      <td>0.000000</td>\n",
       "      <td>46-50</td>\n",
       "      <td>Plea</td>\n",
       "      <td>0.000000</td>\n",
       "      <td>18</td>\n",
       "      <td>embezzlement_theft</td>\n",
       "      <td>Other Nonviolent</td>\n",
       "      <td>zero</td>\n",
       "    </tr>\n",
       "  </tbody>\n",
       "</table>\n",
       "<p>5 rows × 209 columns</p>\n",
       "</div>"
      ],
      "text/plain": [
       "   Unnamed: 0  ABUS1  ABUS2  ABUS3  ACCAP  ACCCAT  ACCGDLN  ACCOFFLV  \\\n",
       "0           0    0.0    NaN    NaN    0.0     NaN      1.0       NaN   \n",
       "1           1    0.0    NaN    NaN    0.0     NaN      1.0       NaN   \n",
       "2           2    0.0    NaN    NaN    0.0     NaN      2.0       NaN   \n",
       "3           3    0.0    NaN    NaN    0.0     NaN      1.0       NaN   \n",
       "4           4    0.0    NaN    NaN    0.0     NaN      1.0       NaN   \n",
       "\n",
       "   ACCTRESP  ADJ_C1  ...  ADJ_E2  ADJ_E3  TOTPRISN_YRS  AGE_RANGE  PLEA_TRIAL  \\\n",
       "0      -3.0     0.0  ...     NaN     NaN      1.750000      36-40        Plea   \n",
       "1      -3.0     0.0  ...     NaN     NaN     16.666667      46-50        Plea   \n",
       "2      -3.0     0.0  ...     NaN     NaN      2.500000      46-50        Plea   \n",
       "3      -3.0     0.0  ...     NaN     NaN      2.500000      31-35        Plea   \n",
       "4      -2.0     0.0  ...     NaN     NaN      0.000000      46-50        Plea   \n",
       "\n",
       "   TOTPRISN2  CRIMECODE           CRIMETYPE          VIOLENCE  YR_RANGE  \n",
       "0   1.750000         21               drugs      Drug-Related       0-2  \n",
       "1  16.666667         21               drugs      Drug-Related     15-20  \n",
       "2   2.500000         21               drugs      Drug-Related       3-5  \n",
       "3   2.500000         18            firearms  Other Nonviolent       3-5  \n",
       "4   0.000000         18  embezzlement_theft  Other Nonviolent      zero  \n",
       "\n",
       "[5 rows x 209 columns]"
      ]
     },
     "execution_count": 2,
     "metadata": {},
     "output_type": "execute_result"
    }
   ],
   "source": [
    "tn = pd.read_csv('../data/tn.csv')\n",
    "tn.head()"
   ]
  },
  {
   "cell_type": "code",
   "execution_count": 3,
   "metadata": {},
   "outputs": [
    {
     "data": {
      "text/plain": [
       "CRIMETYPE\n",
       "drugs                    3177\n",
       "firearms                 1531\n",
       "other                     824\n",
       "immigration               446\n",
       "fraud                     277\n",
       "racketeering              238\n",
       "conspiracy                196\n",
       "child abuse               179\n",
       "embezzlement_theft        145\n",
       "robbery                   112\n",
       "sex offender registry      77\n",
       "human trafficking          23\n",
       "murder                     22\n",
       "sexual                     11\n",
       "dtype: int64"
      ]
     },
     "execution_count": 3,
     "metadata": {},
     "output_type": "execute_result"
    }
   ],
   "source": [
    "tn.value_counts('CRIMETYPE')"
   ]
  },
  {
   "cell_type": "code",
   "execution_count": 4,
   "metadata": {},
   "outputs": [
    {
     "data": {
      "text/plain": [
       "USSCIDN         0\n",
       "NEWRACE         0\n",
       "CHEMTYP1     3164\n",
       "COMBDRG2       13\n",
       "CUNIT1       3164\n",
       "DAFROM1      1957\n",
       "DAFROM2      3146\n",
       "DATO1        2019\n",
       "DATO2        3155\n",
       "DRGAM1       1427\n",
       "DRGAM2       2646\n",
       "DRUGTYP1       13\n",
       "DRUGTYP2     2548\n",
       "DRUGTYP3     2914\n",
       "DTGDL          21\n",
       "DUFROM1      1763\n",
       "DUFROM2      3079\n",
       "DUTO1        1772\n",
       "DUTO2        3083\n",
       "ISMETHMIN       0\n",
       "MWEIGHT      1477\n",
       "MWGT1        1477\n",
       "MWGT2        2675\n",
       "NOCHEM       3164\n",
       "NODRUG         13\n",
       "UNIT1          13\n",
       "UNIT2        2548\n",
       "UNIT3        2914\n",
       "UNIT4        3060\n",
       "dtype: int64"
      ]
     },
     "execution_count": 4,
     "metadata": {},
     "output_type": "execute_result"
    }
   ],
   "source": [
    "drugs = tn.loc[tn['CRIMETYPE'] == 'drugs']\n",
    "drugs = drugs[['USSCIDN', 'NEWRACE', \n",
    "               'CHEMTYP1',\n",
    "'COMBDRG2',\n",
    "'CUNIT1',\n",
    "'DAFROM1',\n",
    "'DAFROM2',\n",
    "'DATO1',\n",
    "'DATO2',\n",
    "'DRGAM1',\n",
    "'DRGAM2',\n",
    "'DRUGTYP1',\n",
    "'DRUGTYP2',\n",
    "'DRUGTYP3',\n",
    "'DTGDL',\n",
    "'DUFROM1',\n",
    "'DUFROM2',\n",
    "'DUTO1',\n",
    "'DUTO2',\n",
    "'ISMETHMIN',\n",
    "'MWEIGHT',\n",
    "'MWGT1',\n",
    "'MWGT2',\n",
    "'NOCHEM',\n",
    "'NODRUG',\n",
    "'UNIT1',\n",
    "'UNIT2',\n",
    "'UNIT3',\n",
    "'UNIT4']]\n",
    "drugs.isnull().sum()"
   ]
  },
  {
   "cell_type": "code",
   "execution_count": 5,
   "metadata": {},
   "outputs": [
    {
     "data": {
      "text/plain": [
       "NODRUG\n",
       "1.0     2535\n",
       "2.0      366\n",
       "3.0      146\n",
       "4.0       70\n",
       "5.0       23\n",
       "6.0       12\n",
       "7.0        5\n",
       "8.0        4\n",
       "16.0       1\n",
       "10.0       1\n",
       "9.0        1\n",
       "dtype: int64"
      ]
     },
     "execution_count": 5,
     "metadata": {},
     "output_type": "execute_result"
    }
   ],
   "source": [
    "drugs.value_counts('NODRUG')"
   ]
  },
  {
   "cell_type": "code",
   "execution_count": 6,
   "metadata": {},
   "outputs": [
    {
     "data": {
      "text/plain": [
       "NODRUG\n",
       "1.0     2617\n",
       "2.0      410\n",
       "3.0      167\n",
       "4.0       74\n",
       "5.0       28\n",
       "6.0       16\n",
       "7.0        6\n",
       "8.0        5\n",
       "16.0       1\n",
       "10.0       1\n",
       "9.0        1\n",
       "dtype: int64"
      ]
     },
     "execution_count": 6,
     "metadata": {},
     "output_type": "execute_result"
    }
   ],
   "source": [
    "tn.value_counts('NODRUG')"
   ]
  },
  {
   "cell_type": "code",
   "execution_count": 7,
   "metadata": {},
   "outputs": [
    {
     "data": {
      "text/plain": [
       "CRIMETYPE\n",
       "immigration              434\n",
       "drugs                    286\n",
       "other                     72\n",
       "conspiracy                42\n",
       "firearms                  39\n",
       "racketeering               8\n",
       "fraud                      8\n",
       "sex offender registry      4\n",
       "embezzlement_theft         4\n",
       "child abuse                4\n",
       "human trafficking          2\n",
       "dtype: int64"
      ]
     },
     "execution_count": 7,
     "metadata": {},
     "output_type": "execute_result"
    }
   ],
   "source": [
    "hispanic = tn.loc[tn['NEWRACE'] == 'Hispanic']\n",
    "hispanic.value_counts('CRIMETYPE')"
   ]
  },
  {
   "cell_type": "code",
   "execution_count": 14,
   "metadata": {},
   "outputs": [
    {
     "data": {
      "text/plain": [
       "CRIMETYPE\n",
       "immigration              388\n",
       "other                     61\n",
       "conspiracy                38\n",
       "firearms                  36\n",
       "fraud                      6\n",
       "sex offender registry      4\n",
       "racketeering               4\n",
       "embezzlement_theft         4\n",
       "human trafficking          2\n",
       "dtype: int64"
      ]
     },
     "execution_count": 14,
     "metadata": {},
     "output_type": "execute_result"
    }
   ],
   "source": [
    "nvh = hispanic.loc[hispanic['VIOLENCE'] == 'Other Nonviolent']\n",
    "nvh.value_counts('CRIMETYPE')"
   ]
  },
  {
   "cell_type": "code",
   "execution_count": 12,
   "metadata": {},
   "outputs": [
    {
     "name": "stdout",
     "output_type": "stream",
     "text": [
      "<class 'pandas.core.frame.DataFrame'>\n",
      "Int64Index: 251 entries, 7 to 7221\n",
      "Columns: 209 entries, Unnamed: 0 to YR_RANGE\n",
      "dtypes: float64(157), int64(30), object(22)\n",
      "memory usage: 411.8+ KB\n"
     ]
    }
   ],
   "source": [
    "drh = hispanic.loc[hispanic['VIOLENCE'] == 'Drug-Related']\n",
    "drh.value_counts('CRIMETYPE')"
   ]
  },
  {
   "cell_type": "code",
   "execution_count": 11,
   "metadata": {},
   "outputs": [
    {
     "data": {
      "text/plain": [
       "CRIMETYPE\n",
       "immigration     44\n",
       "drugs           42\n",
       "other           10\n",
       "conspiracy       4\n",
       "child abuse      3\n",
       "racketeering     2\n",
       "fraud            2\n",
       "firearms         1\n",
       "dtype: int64"
      ]
     },
     "execution_count": 11,
     "metadata": {},
     "output_type": "execute_result"
    }
   ],
   "source": [
    "vh = hispanic.loc[hispanic['VIOLENCE'] == 'Violent']\n",
    "vh.value_counts('CRIMETYPE')"
   ]
  },
  {
   "cell_type": "code",
   "execution_count": 9,
   "metadata": {},
   "outputs": [
    {
     "data": {
      "text/plain": [
       "VIOLENCE\n",
       "Other Nonviolent    543\n",
       "Drug-Related        251\n",
       "Violent             108\n",
       "Sexual                1\n",
       "dtype: int64"
      ]
     },
     "execution_count": 9,
     "metadata": {},
     "output_type": "execute_result"
    }
   ],
   "source": [
    "hispanic.value_counts('VIOLENCE')"
   ]
  },
  {
   "cell_type": "markdown",
   "metadata": {},
   "source": [
    "### So pie chart of immigration cases:\n",
    "- 434 total\n",
    "- 388 non-violent\n",
    "- 2 drug-related\n",
    "- 44 violent\n",
    "\n",
    "### So of the 543 nonviolent hispanic cases:\n",
    "- 388 (71%) were immigration only\n",
    "- Others were scattered and random"
   ]
  },
  {
   "cell_type": "code",
   "execution_count": 22,
   "metadata": {},
   "outputs": [
    {
     "data": {
      "text/plain": [
       "YR_RANGE\n",
       "zero    229\n",
       "0-2     123\n",
       "3-5      33\n",
       "5-10      3\n",
       "dtype: int64"
      ]
     },
     "execution_count": 22,
     "metadata": {},
     "output_type": "execute_result"
    }
   ],
   "source": [
    "immigration = hispanic.loc[hispanic['CRIMETYPE'] == 'immigration']\n",
    "nvimmigration = immigration.loc[immigration['VIOLENCE'] == 'Other Nonviolent']\n",
    "nvimmigration.value_counts('YR_RANGE')"
   ]
  },
  {
   "cell_type": "code",
   "execution_count": 15,
   "metadata": {},
   "outputs": [
    {
     "data": {
      "text/plain": [
       "['Unnamed: 0',\n",
       " 'ABUS1',\n",
       " 'ABUS2',\n",
       " 'ABUS3',\n",
       " 'ACCAP',\n",
       " 'ACCCAT',\n",
       " 'ACCGDLN',\n",
       " 'ACCOFFLV',\n",
       " 'ACCTRESP',\n",
       " 'ADJ_C1',\n",
       " 'ADJ_G1',\n",
       " 'ADJ_H1',\n",
       " 'ADJ_I1',\n",
       " 'ADJ_J1',\n",
       " 'ADJ_K1',\n",
       " 'ADJ_L1',\n",
       " 'ADJ_M1',\n",
       " 'ADJ_N1',\n",
       " 'ADJ_O1',\n",
       " 'ADJ_P1',\n",
       " 'ADJOFL1',\n",
       " 'AGE',\n",
       " 'AGGROL1',\n",
       " 'AGGROL2',\n",
       " 'ALTMO',\n",
       " 'AMTFINEC',\n",
       " 'AMTREST',\n",
       " 'AMTTOTAL',\n",
       " 'ARMCRIM',\n",
       " 'CAROFFAP',\n",
       " 'CAROFFEN',\n",
       " 'CAROFFLV',\n",
       " 'CASETYPE',\n",
       " 'CHAP2',\n",
       " 'CHEMTYP1',\n",
       " 'CHP2CHG1',\n",
       " 'CHP2CHG2',\n",
       " 'CHP2TXT1',\n",
       " 'CHP3CHG1',\n",
       " 'CHP3CHG2',\n",
       " 'CHP4CHG1',\n",
       " 'CHP4CHG2',\n",
       " 'CIRCDIST',\n",
       " 'CITIZEN',\n",
       " 'CITWHERE',\n",
       " 'CO924TAB',\n",
       " 'COADJLEV',\n",
       " 'COMBDRG2',\n",
       " 'CRIMHIST',\n",
       " 'CRIMLIV',\n",
       " 'CRIMPTS',\n",
       " 'CRMLIVAP',\n",
       " 'CUNIT1',\n",
       " 'DISPOSIT',\n",
       " 'DISTRICT',\n",
       " 'DRUGMIN',\n",
       " 'DRUGTYP1',\n",
       " 'DRUGTYP2',\n",
       " 'DRUGTYP3',\n",
       " 'DTGDL',\n",
       " 'DUFROM1',\n",
       " 'DUFROM2',\n",
       " 'DUTO1',\n",
       " 'DUTO2',\n",
       " 'EDUCATN',\n",
       " 'FAILMIN',\n",
       " 'FIREMIN1',\n",
       " 'FIREMIN2',\n",
       " 'GLMAX',\n",
       " 'GLMIN',\n",
       " 'GUNMIN1',\n",
       " 'GUNMIN2',\n",
       " 'HISPORIG',\n",
       " 'HOMDUM',\n",
       " 'HRCOMSRV',\n",
       " 'HUMAN1',\n",
       " 'INNOPL1',\n",
       " 'INNOPL2',\n",
       " 'INOUT',\n",
       " 'INPLEA1',\n",
       " 'INPLEA2',\n",
       " 'INTDUM',\n",
       " 'IS1028A',\n",
       " 'IS924C',\n",
       " 'ISMETHMIN',\n",
       " 'MAND1',\n",
       " 'MAND2',\n",
       " 'MAND3',\n",
       " 'MAND4',\n",
       " 'MAND5',\n",
       " 'MAND6',\n",
       " 'METHMIN',\n",
       " 'MOCOMCON',\n",
       " 'MOHOMDET',\n",
       " 'MOINTCON',\n",
       " 'MONACCEP',\n",
       " 'MONCIRC',\n",
       " 'MONRACE',\n",
       " 'MONSEX',\n",
       " 'MONSXOFB',\n",
       " 'NEWCNVTN',\n",
       " 'NEWEDUC',\n",
       " 'NEWRACE',\n",
       " 'NOCHEM',\n",
       " 'NOCOMP',\n",
       " 'NOCOUNTS',\n",
       " 'NODRUG',\n",
       " 'NOUSTAT',\n",
       " 'NUMDEPEN',\n",
       " 'OFFGUIDE',\n",
       " 'OFFVCT1',\n",
       " 'ONLY1028A',\n",
       " 'ONLY924C',\n",
       " 'POINT1',\n",
       " 'POINT2',\n",
       " 'POINT3',\n",
       " 'PRESENT',\n",
       " 'PRISDUM',\n",
       " 'PROBATN',\n",
       " 'PROBDUM',\n",
       " 'RANGEPT',\n",
       " 'REAS1',\n",
       " 'REAS2',\n",
       " 'REL2PTS',\n",
       " 'RESTDET1',\n",
       " 'RESTDET2',\n",
       " 'RLEAS1',\n",
       " 'RSTRVC1',\n",
       " 'SAFE',\n",
       " 'SAFETY',\n",
       " 'SENSPCAP',\n",
       " 'SENSPLT0',\n",
       " 'SENTIMP',\n",
       " 'SENTPTS',\n",
       " 'SENTRNGE',\n",
       " 'SENTTCAP',\n",
       " 'SENTTOT',\n",
       " 'SEXACCA',\n",
       " 'SEXACCB',\n",
       " 'SEXMIN',\n",
       " 'SEXOFFNA',\n",
       " 'SEXOFFNB',\n",
       " 'SMAX1',\n",
       " 'SMAX2',\n",
       " 'SMAX3',\n",
       " 'SMIN1',\n",
       " 'SMIN2',\n",
       " 'SMIN3',\n",
       " 'STATMAX',\n",
       " 'STATMIN',\n",
       " 'SUPRDUM',\n",
       " 'SUPREL',\n",
       " 'TEROR1',\n",
       " 'TIMSERVC',\n",
       " 'TIMSERVD',\n",
       " 'TIMSERVM',\n",
       " 'TOTCHPTS',\n",
       " 'TOTDAYS',\n",
       " 'TOTPRISN',\n",
       " 'TYPEMONY',\n",
       " 'TYPEOTHS',\n",
       " 'UNIT1',\n",
       " 'UNIT2',\n",
       " 'UNIT3',\n",
       " 'UNIT4',\n",
       " 'USKID1',\n",
       " 'USSCIDN',\n",
       " 'VULVCT1',\n",
       " 'WEAPON',\n",
       " 'WEAPSOC',\n",
       " 'XCRHISSR',\n",
       " 'XFOLSOR',\n",
       " 'ZONE',\n",
       " 'SEXADJB',\n",
       " 'STA1_1',\n",
       " 'STA2_1',\n",
       " 'DAFROM1',\n",
       " 'DAFROM2',\n",
       " 'DRGAM1',\n",
       " 'DRGAM2',\n",
       " 'DATO1',\n",
       " 'DATO2',\n",
       " 'IMMIMIN',\n",
       " 'LOSS1',\n",
       " 'LOSS2',\n",
       " 'MNTHDEPT',\n",
       " 'MWEIGHT',\n",
       " 'MWGT1',\n",
       " 'MWGT2',\n",
       " 'NWSTAT1',\n",
       " 'NWSTAT2',\n",
       " 'PCNTDEPT',\n",
       " 'BOOKERCD',\n",
       " 'SENTTOT0',\n",
       " 'YEAR',\n",
       " 'ADJ_D1',\n",
       " 'ADJ_D2',\n",
       " 'ADJ_D3',\n",
       " 'ADJ_E1',\n",
       " 'ADJ_E2',\n",
       " 'ADJ_E3',\n",
       " 'TOTPRISN_YRS',\n",
       " 'AGE_RANGE',\n",
       " 'PLEA_TRIAL',\n",
       " 'TOTPRISN2',\n",
       " 'CRIMECODE',\n",
       " 'CRIMETYPE',\n",
       " 'VIOLENCE',\n",
       " 'YR_RANGE']"
      ]
     },
     "execution_count": 15,
     "metadata": {},
     "output_type": "execute_result"
    }
   ],
   "source": [
    "list(tn.columns)"
   ]
  },
  {
   "cell_type": "code",
   "execution_count": 23,
   "metadata": {},
   "outputs": [
    {
     "data": {
      "text/plain": [
       "REAS1\n",
       "2.0       30\n",
       "1.0       11\n",
       "500.0     11\n",
       "48.0       8\n",
       "3.0        6\n",
       "1205.0     4\n",
       "747.0      4\n",
       "17.0       3\n",
       "60.0       3\n",
       "16.0       3\n",
       "1200.0     2\n",
       "777.0      2\n",
       "4.0        2\n",
       "649.0      2\n",
       "11.0       2\n",
       "19.0       2\n",
       "1208.0     1\n",
       "47.0       1\n",
       "1206.0     1\n",
       "652.0      1\n",
       "761.0      1\n",
       "828.0      1\n",
       "61.0       1\n",
       "dtype: int64"
      ]
     },
     "execution_count": 23,
     "metadata": {},
     "output_type": "execute_result"
    }
   ],
   "source": [
    "nvimmigration.value_counts('REAS1')"
   ]
  },
  {
   "cell_type": "code",
   "execution_count": 24,
   "metadata": {},
   "outputs": [
    {
     "data": {
      "text/plain": [
       "YR_RANGE\n",
       "zero    14\n",
       "0-2     13\n",
       "3-5      3\n",
       "dtype: int64"
      ]
     },
     "execution_count": 24,
     "metadata": {},
     "output_type": "execute_result"
    }
   ],
   "source": [
    "reas2 = nvimmigration.loc[nvimmigration['REAS1'] == 2]\n",
    "reas2.value_counts('YR_RANGE')"
   ]
  },
  {
   "cell_type": "markdown",
   "metadata": {},
   "source": [
    "### I'm trying to figure out whether these people who committed immigration crimes and have zero time got deported."
   ]
  },
  {
   "cell_type": "code",
   "execution_count": 28,
   "metadata": {},
   "outputs": [
    {
     "data": {
      "text/html": [
       "<div>\n",
       "<style scoped>\n",
       "    .dataframe tbody tr th:only-of-type {\n",
       "        vertical-align: middle;\n",
       "    }\n",
       "\n",
       "    .dataframe tbody tr th {\n",
       "        vertical-align: top;\n",
       "    }\n",
       "\n",
       "    .dataframe thead th {\n",
       "        text-align: right;\n",
       "    }\n",
       "</style>\n",
       "<table border=\"1\" class=\"dataframe\">\n",
       "  <thead>\n",
       "    <tr style=\"text-align: right;\">\n",
       "      <th></th>\n",
       "      <th>Unnamed: 0</th>\n",
       "      <th>ABUS1</th>\n",
       "      <th>ABUS2</th>\n",
       "      <th>ABUS3</th>\n",
       "      <th>ACCAP</th>\n",
       "      <th>ACCCAT</th>\n",
       "      <th>ACCGDLN</th>\n",
       "      <th>ACCOFFLV</th>\n",
       "      <th>ACCTRESP</th>\n",
       "      <th>ADJ_C1</th>\n",
       "      <th>...</th>\n",
       "      <th>YEAR</th>\n",
       "      <th>ADJ_D1</th>\n",
       "      <th>ADJ_D2</th>\n",
       "      <th>ADJ_D3</th>\n",
       "      <th>ADJ_E1</th>\n",
       "      <th>ADJ_E2</th>\n",
       "      <th>ADJ_E3</th>\n",
       "      <th>TOTPRISN_YRS</th>\n",
       "      <th>TOTPRISN2</th>\n",
       "      <th>CRIMECODE</th>\n",
       "    </tr>\n",
       "  </thead>\n",
       "  <tbody>\n",
       "    <tr>\n",
       "      <th>count</th>\n",
       "      <td>229.000000</td>\n",
       "      <td>170.0</td>\n",
       "      <td>0.0</td>\n",
       "      <td>0.0</td>\n",
       "      <td>229.0</td>\n",
       "      <td>0.0</td>\n",
       "      <td>229.000000</td>\n",
       "      <td>139.0</td>\n",
       "      <td>170.000000</td>\n",
       "      <td>153.000000</td>\n",
       "      <td>...</td>\n",
       "      <td>229.000000</td>\n",
       "      <td>153.0</td>\n",
       "      <td>0.0</td>\n",
       "      <td>0.0</td>\n",
       "      <td>4.0</td>\n",
       "      <td>0.0</td>\n",
       "      <td>0.0</td>\n",
       "      <td>229.0</td>\n",
       "      <td>229.0</td>\n",
       "      <td>229.0</td>\n",
       "    </tr>\n",
       "    <tr>\n",
       "      <th>mean</th>\n",
       "      <td>5213.510917</td>\n",
       "      <td>0.0</td>\n",
       "      <td>NaN</td>\n",
       "      <td>NaN</td>\n",
       "      <td>0.0</td>\n",
       "      <td>NaN</td>\n",
       "      <td>2.820961</td>\n",
       "      <td>0.0</td>\n",
       "      <td>-2.052941</td>\n",
       "      <td>0.509804</td>\n",
       "      <td>...</td>\n",
       "      <td>2018.244541</td>\n",
       "      <td>0.0</td>\n",
       "      <td>NaN</td>\n",
       "      <td>NaN</td>\n",
       "      <td>0.0</td>\n",
       "      <td>NaN</td>\n",
       "      <td>NaN</td>\n",
       "      <td>0.0</td>\n",
       "      <td>0.0</td>\n",
       "      <td>81.0</td>\n",
       "    </tr>\n",
       "    <tr>\n",
       "      <th>std</th>\n",
       "      <td>1456.809761</td>\n",
       "      <td>0.0</td>\n",
       "      <td>NaN</td>\n",
       "      <td>NaN</td>\n",
       "      <td>0.0</td>\n",
       "      <td>NaN</td>\n",
       "      <td>3.060544</td>\n",
       "      <td>0.0</td>\n",
       "      <td>0.224578</td>\n",
       "      <td>1.784869</td>\n",
       "      <td>...</td>\n",
       "      <td>1.076678</td>\n",
       "      <td>0.0</td>\n",
       "      <td>NaN</td>\n",
       "      <td>NaN</td>\n",
       "      <td>0.0</td>\n",
       "      <td>NaN</td>\n",
       "      <td>NaN</td>\n",
       "      <td>0.0</td>\n",
       "      <td>0.0</td>\n",
       "      <td>0.0</td>\n",
       "    </tr>\n",
       "    <tr>\n",
       "      <th>min</th>\n",
       "      <td>203.000000</td>\n",
       "      <td>0.0</td>\n",
       "      <td>NaN</td>\n",
       "      <td>NaN</td>\n",
       "      <td>0.0</td>\n",
       "      <td>NaN</td>\n",
       "      <td>1.000000</td>\n",
       "      <td>0.0</td>\n",
       "      <td>-3.000000</td>\n",
       "      <td>0.000000</td>\n",
       "      <td>...</td>\n",
       "      <td>2015.000000</td>\n",
       "      <td>0.0</td>\n",
       "      <td>NaN</td>\n",
       "      <td>NaN</td>\n",
       "      <td>0.0</td>\n",
       "      <td>NaN</td>\n",
       "      <td>NaN</td>\n",
       "      <td>0.0</td>\n",
       "      <td>0.0</td>\n",
       "      <td>81.0</td>\n",
       "    </tr>\n",
       "    <tr>\n",
       "      <th>25%</th>\n",
       "      <td>4666.000000</td>\n",
       "      <td>0.0</td>\n",
       "      <td>NaN</td>\n",
       "      <td>NaN</td>\n",
       "      <td>0.0</td>\n",
       "      <td>NaN</td>\n",
       "      <td>1.000000</td>\n",
       "      <td>0.0</td>\n",
       "      <td>-2.000000</td>\n",
       "      <td>0.000000</td>\n",
       "      <td>...</td>\n",
       "      <td>2018.000000</td>\n",
       "      <td>0.0</td>\n",
       "      <td>NaN</td>\n",
       "      <td>NaN</td>\n",
       "      <td>0.0</td>\n",
       "      <td>NaN</td>\n",
       "      <td>NaN</td>\n",
       "      <td>0.0</td>\n",
       "      <td>0.0</td>\n",
       "      <td>81.0</td>\n",
       "    </tr>\n",
       "    <tr>\n",
       "      <th>50%</th>\n",
       "      <td>5662.000000</td>\n",
       "      <td>0.0</td>\n",
       "      <td>NaN</td>\n",
       "      <td>NaN</td>\n",
       "      <td>0.0</td>\n",
       "      <td>NaN</td>\n",
       "      <td>1.000000</td>\n",
       "      <td>0.0</td>\n",
       "      <td>-2.000000</td>\n",
       "      <td>0.000000</td>\n",
       "      <td>...</td>\n",
       "      <td>2019.000000</td>\n",
       "      <td>0.0</td>\n",
       "      <td>NaN</td>\n",
       "      <td>NaN</td>\n",
       "      <td>0.0</td>\n",
       "      <td>NaN</td>\n",
       "      <td>NaN</td>\n",
       "      <td>0.0</td>\n",
       "      <td>0.0</td>\n",
       "      <td>81.0</td>\n",
       "    </tr>\n",
       "    <tr>\n",
       "      <th>75%</th>\n",
       "      <td>6146.000000</td>\n",
       "      <td>0.0</td>\n",
       "      <td>NaN</td>\n",
       "      <td>NaN</td>\n",
       "      <td>0.0</td>\n",
       "      <td>NaN</td>\n",
       "      <td>8.000000</td>\n",
       "      <td>0.0</td>\n",
       "      <td>-2.000000</td>\n",
       "      <td>0.000000</td>\n",
       "      <td>...</td>\n",
       "      <td>2019.000000</td>\n",
       "      <td>0.0</td>\n",
       "      <td>NaN</td>\n",
       "      <td>NaN</td>\n",
       "      <td>0.0</td>\n",
       "      <td>NaN</td>\n",
       "      <td>NaN</td>\n",
       "      <td>0.0</td>\n",
       "      <td>0.0</td>\n",
       "      <td>81.0</td>\n",
       "    </tr>\n",
       "    <tr>\n",
       "      <th>max</th>\n",
       "      <td>7256.000000</td>\n",
       "      <td>0.0</td>\n",
       "      <td>NaN</td>\n",
       "      <td>NaN</td>\n",
       "      <td>0.0</td>\n",
       "      <td>NaN</td>\n",
       "      <td>8.000000</td>\n",
       "      <td>0.0</td>\n",
       "      <td>-2.000000</td>\n",
       "      <td>10.000000</td>\n",
       "      <td>...</td>\n",
       "      <td>2019.000000</td>\n",
       "      <td>0.0</td>\n",
       "      <td>NaN</td>\n",
       "      <td>NaN</td>\n",
       "      <td>0.0</td>\n",
       "      <td>NaN</td>\n",
       "      <td>NaN</td>\n",
       "      <td>0.0</td>\n",
       "      <td>0.0</td>\n",
       "      <td>81.0</td>\n",
       "    </tr>\n",
       "  </tbody>\n",
       "</table>\n",
       "<p>8 rows × 187 columns</p>\n",
       "</div>"
      ],
      "text/plain": [
       "        Unnamed: 0  ABUS1  ABUS2  ABUS3  ACCAP  ACCCAT     ACCGDLN  ACCOFFLV  \\\n",
       "count   229.000000  170.0    0.0    0.0  229.0     0.0  229.000000     139.0   \n",
       "mean   5213.510917    0.0    NaN    NaN    0.0     NaN    2.820961       0.0   \n",
       "std    1456.809761    0.0    NaN    NaN    0.0     NaN    3.060544       0.0   \n",
       "min     203.000000    0.0    NaN    NaN    0.0     NaN    1.000000       0.0   \n",
       "25%    4666.000000    0.0    NaN    NaN    0.0     NaN    1.000000       0.0   \n",
       "50%    5662.000000    0.0    NaN    NaN    0.0     NaN    1.000000       0.0   \n",
       "75%    6146.000000    0.0    NaN    NaN    0.0     NaN    8.000000       0.0   \n",
       "max    7256.000000    0.0    NaN    NaN    0.0     NaN    8.000000       0.0   \n",
       "\n",
       "         ACCTRESP      ADJ_C1  ...         YEAR  ADJ_D1  ADJ_D2  ADJ_D3  \\\n",
       "count  170.000000  153.000000  ...   229.000000   153.0     0.0     0.0   \n",
       "mean    -2.052941    0.509804  ...  2018.244541     0.0     NaN     NaN   \n",
       "std      0.224578    1.784869  ...     1.076678     0.0     NaN     NaN   \n",
       "min     -3.000000    0.000000  ...  2015.000000     0.0     NaN     NaN   \n",
       "25%     -2.000000    0.000000  ...  2018.000000     0.0     NaN     NaN   \n",
       "50%     -2.000000    0.000000  ...  2019.000000     0.0     NaN     NaN   \n",
       "75%     -2.000000    0.000000  ...  2019.000000     0.0     NaN     NaN   \n",
       "max     -2.000000   10.000000  ...  2019.000000     0.0     NaN     NaN   \n",
       "\n",
       "       ADJ_E1  ADJ_E2  ADJ_E3  TOTPRISN_YRS  TOTPRISN2  CRIMECODE  \n",
       "count     4.0     0.0     0.0         229.0      229.0      229.0  \n",
       "mean      0.0     NaN     NaN           0.0        0.0       81.0  \n",
       "std       0.0     NaN     NaN           0.0        0.0        0.0  \n",
       "min       0.0     NaN     NaN           0.0        0.0       81.0  \n",
       "25%       0.0     NaN     NaN           0.0        0.0       81.0  \n",
       "50%       0.0     NaN     NaN           0.0        0.0       81.0  \n",
       "75%       0.0     NaN     NaN           0.0        0.0       81.0  \n",
       "max       0.0     NaN     NaN           0.0        0.0       81.0  \n",
       "\n",
       "[8 rows x 187 columns]"
      ]
     },
     "execution_count": 28,
     "metadata": {},
     "output_type": "execute_result"
    }
   ],
   "source": [
    "zerotime = nvimmigration.loc[nvimmigration['YR_RANGE'] == 'zero']\n",
    "zerotime.describe()"
   ]
  },
  {
   "cell_type": "code",
   "execution_count": 29,
   "metadata": {},
   "outputs": [
    {
     "data": {
      "text/plain": [
       "ACCTRESP\n",
       "-2.0    161\n",
       "-3.0      9\n",
       "dtype: int64"
      ]
     },
     "execution_count": 29,
     "metadata": {},
     "output_type": "execute_result"
    }
   ],
   "source": [
    "zerotime.value_counts('ACCTRESP')"
   ]
  },
  {
   "cell_type": "markdown",
   "metadata": {},
   "source": [
    "### So 170 out of 229 of those who served zero time accepted responsibility."
   ]
  },
  {
   "cell_type": "code",
   "execution_count": 30,
   "metadata": {},
   "outputs": [
    {
     "data": {
      "text/plain": [
       "IMMIMIN\n",
       "0    388\n",
       "dtype: int64"
      ]
     },
     "execution_count": 30,
     "metadata": {},
     "output_type": "execute_result"
    }
   ],
   "source": [
    "nvimmigration.value_counts('IMMIMIN')"
   ]
  },
  {
   "cell_type": "code",
   "execution_count": 32,
   "metadata": {},
   "outputs": [
    {
     "data": {
      "text/plain": [
       "IMMIMIN\n",
       "0    434\n",
       "dtype: int64"
      ]
     },
     "execution_count": 32,
     "metadata": {},
     "output_type": "execute_result"
    }
   ],
   "source": [
    "immigration.value_counts('IMMIMIN')"
   ]
  },
  {
   "cell_type": "code",
   "execution_count": 38,
   "metadata": {},
   "outputs": [
    {
     "name": "stdout",
     "output_type": "stream",
     "text": [
      "Unnamed: 0\n",
      "5213.510917030568\n",
      "ABUS1\n",
      "0.0\n",
      "ABUS2\n",
      "nan\n",
      "ABUS3\n",
      "nan\n",
      "ACCAP\n",
      "0.0\n",
      "ACCCAT\n",
      "nan\n",
      "ACCGDLN\n",
      "2.8209606986899565\n",
      "ACCOFFLV\n",
      "0.0\n",
      "ACCTRESP\n",
      "-2.052941176470588\n",
      "ADJ_C1\n",
      "0.5098039215686274\n",
      "ADJ_G1\n",
      "0.0\n",
      "ADJ_H1\n",
      "0.0\n",
      "ADJ_I1\n",
      "0.0\n",
      "ADJ_J1\n",
      "0.0\n",
      "ADJ_K1\n",
      "nan\n",
      "ADJ_L1\n",
      "nan\n",
      "ADJ_M1\n",
      "nan\n",
      "ADJ_N1\n",
      "nan\n",
      "ADJ_O1\n",
      "nan\n",
      "ADJ_P1\n",
      "nan\n",
      "ADJOFL1\n",
      "9.282352941176471\n",
      "AGE\n",
      "33.64192139737991\n",
      "AGGROL1\n",
      "0.0\n",
      "AGGROL2\n",
      "nan\n",
      "ALTMO\n",
      "0.021834061135371178\n",
      "AMTFINEC\n",
      "0.0\n",
      "AMTREST\n",
      "0.0\n",
      "AMTTOTAL\n",
      "0.0\n",
      "ARMCRIM\n",
      "0.0\n",
      "CAROFFAP\n",
      "0.0\n",
      "CAROFFEN\n",
      "0.0\n",
      "CAROFFLV\n",
      "0.0\n",
      "CHAP2\n",
      "9.282352941176471\n",
      "CHEMTYP1\n",
      "nan\n",
      "CHP2CHG1\n",
      "6.0\n",
      "CHP2CHG2\n",
      "nan\n",
      "CHP3CHG1\n",
      "nan\n",
      "CHP3CHG2\n",
      "nan\n",
      "CHP4CHG1\n",
      "nan\n",
      "CHP4CHG2\n",
      "nan\n",
      "CIRCDIST\n",
      "43.44541484716157\n",
      "CITIZEN\n",
      "2.995633187772926\n",
      "CITWHERE\n",
      "44.854922279792746\n",
      "CO924TAB\n",
      "nan\n",
      "COADJLEV\n",
      "9.282352941176471\n",
      "COMBDRG2\n",
      "nan\n",
      "CRIMHIST\n",
      "0.995575221238938\n",
      "CRIMLIV\n",
      "0.0\n",
      "CRIMPTS\n",
      "1.4192139737991267\n",
      "CRMLIVAP\n",
      "0.0\n",
      "CUNIT1\n",
      "nan\n",
      "DISPOSIT\n",
      "1.0\n",
      "DISTRICT\n",
      "49.44541484716157\n",
      "DRUGMIN\n",
      "0.0\n",
      "DRUGTYP1\n",
      "nan\n",
      "DRUGTYP2\n",
      "nan\n",
      "DRUGTYP3\n",
      "nan\n",
      "DUFROM1\n",
      "nan\n",
      "DUFROM2\n",
      "nan\n",
      "DUTO1\n",
      "nan\n",
      "DUTO2\n",
      "nan\n",
      "EDUCATN\n",
      "10.414634146341463\n",
      "FAILMIN\n",
      "0.0\n",
      "FIREMIN1\n",
      "0.0\n",
      "FIREMIN2\n",
      "0.0\n",
      "GLMAX\n",
      "9.28191489361702\n",
      "GLMIN\n",
      "3.2393617021276597\n",
      "GUNMIN1\n",
      "0.0\n",
      "GUNMIN2\n",
      "0.0\n",
      "HISPORIG\n",
      "2.0\n",
      "HOMDUM\n",
      "0.004366812227074236\n",
      "HRCOMSRV\n",
      "0.0\n",
      "HUMAN1\n",
      "0.0\n",
      "INNOPL1\n",
      "4.2592592592592595\n",
      "INNOPL2\n",
      "nan\n",
      "INOUT\n",
      "0.0\n",
      "INPLEA1\n",
      "2.25\n",
      "INPLEA2\n",
      "nan\n",
      "INTDUM\n",
      "0.0\n",
      "IS1028A\n",
      "0.0\n",
      "IS924C\n",
      "0.0\n",
      "ISMETHMIN\n",
      "0.0\n",
      "MAND1\n",
      "4.0093023255813955\n",
      "MAND2\n",
      "nan\n",
      "MAND3\n",
      "nan\n",
      "MAND4\n",
      "nan\n",
      "MAND5\n",
      "nan\n",
      "MAND6\n",
      "nan\n",
      "METHMIN\n",
      "0.0\n",
      "MOCOMCON\n",
      "0.0\n",
      "MOHOMDET\n",
      "0.021834061135371178\n",
      "MOINTCON\n",
      "0.0\n",
      "MONACCEP\n",
      "-2.052941176470588\n",
      "MONCIRC\n",
      "6.0\n",
      "MONRACE\n",
      "1.056768558951965\n",
      "MONSEX\n",
      "0.03056768558951965\n",
      "MONSXOFB\n",
      "0.0\n",
      "NEWCNVTN\n",
      "0.0\n",
      "NEWEDUC\n",
      "1.396341463414634\n",
      "NOCHEM\n",
      "nan\n",
      "NOCOMP\n",
      "1.0\n",
      "NOCOUNTS\n",
      "1.0\n",
      "NODRUG\n",
      "nan\n",
      "NOUSTAT\n",
      "1.205240174672489\n",
      "NUMDEPEN\n",
      "1.5529411764705883\n",
      "OFFVCT1\n",
      "0.0\n",
      "ONLY1028A\n",
      "0.0\n",
      "ONLY924C\n",
      "0.0\n",
      "POINT1\n",
      "1.0058823529411764\n",
      "POINT2\n",
      "0.32941176470588235\n",
      "POINT3\n",
      "0.08235294117647059\n",
      "PRESENT\n",
      "1.0056179775280898\n",
      "PRISDUM\n",
      "1.0\n",
      "PROBATN\n",
      "0.0\n",
      "PROBDUM\n",
      "0.0\n",
      "RANGEPT\n",
      "3.048611111111111\n",
      "REAS1\n",
      "263.35135135135135\n",
      "REAS2\n",
      "145.7391304347826\n",
      "REL2PTS\n",
      "0.0\n",
      "RESTDET1\n",
      "0.0\n",
      "RESTDET2\n",
      "nan\n",
      "RLEAS1\n",
      "0.0\n",
      "RSTRVC1\n",
      "0.0\n",
      "SAFE\n",
      "nan\n",
      "SAFETY\n",
      "0.0\n",
      "SENSPLT0\n",
      "3.5493449781659328\n",
      "SENTIMP\n",
      "1.0043668122270741\n",
      "SENTPTS\n",
      "0.27058823529411763\n",
      "SENTTOT\n",
      "3.705504587155956\n",
      "SEXACCA\n",
      "0.0\n",
      "SEXACCB\n",
      "0.0\n",
      "SEXMIN\n",
      "0.0\n",
      "SEXOFFNA\n",
      "0.0\n",
      "SEXOFFNB\n",
      "0.0\n",
      "SMAX1\n",
      "57.07462686567164\n",
      "SMAX2\n",
      "nan\n",
      "SMAX3\n",
      "nan\n",
      "SMIN1\n",
      "0.0\n",
      "SMIN2\n",
      "nan\n",
      "SMIN3\n",
      "nan\n",
      "STATMAX\n",
      "57.07462686567164\n",
      "STATMIN\n",
      "0.0\n",
      "SUPRDUM\n",
      "0.2183406113537118\n",
      "SUPREL\n",
      "3.458515283842795\n",
      "TEROR1\n",
      "0.0\n",
      "TIMSERVC\n",
      "273.41786026200873\n",
      "TIMSERVD\n",
      "310.5633187772926\n",
      "TIMSERVM\n",
      "272.0829694323144\n",
      "TOTCHPTS\n",
      "2.1823529411764704\n",
      "TOTDAYS\n",
      "1.0087336244541485\n",
      "TOTPRISN\n",
      "0.0\n",
      "TYPEMONY\n",
      "1.0087336244541485\n",
      "TYPEOTHS\n",
      "0.0\n",
      "UNIT1\n",
      "nan\n",
      "UNIT2\n",
      "nan\n",
      "UNIT3\n",
      "nan\n",
      "UNIT4\n",
      "nan\n",
      "USKID1\n",
      "0.0\n",
      "USSCIDN\n",
      "2474141.266375546\n",
      "VULVCT1\n",
      "0.0\n",
      "WEAPON\n",
      "0.0\n",
      "WEAPSOC\n",
      "0.0\n",
      "XCRHISSR\n",
      "1.7659574468085106\n",
      "XFOLSOR\n",
      "7.111702127659575\n",
      "SEXADJB\n",
      "0.0\n",
      "DAFROM1\n",
      "nan\n",
      "DAFROM2\n",
      "nan\n",
      "DRGAM1\n",
      "nan\n",
      "DRGAM2\n",
      "nan\n",
      "DATO1\n",
      "nan\n",
      "DATO2\n",
      "nan\n",
      "IMMIMIN\n",
      "0.0\n",
      "LOSS1\n",
      "nan\n",
      "LOSS2\n",
      "nan\n",
      "MWEIGHT\n",
      "nan\n",
      "MWGT1\n",
      "nan\n",
      "MWGT2\n",
      "nan\n",
      "YEAR\n",
      "2018.2445414847161\n",
      "ADJ_D1\n",
      "0.0\n",
      "ADJ_D2\n",
      "nan\n",
      "ADJ_D3\n",
      "nan\n",
      "ADJ_E1\n",
      "0.0\n",
      "ADJ_E2\n",
      "nan\n",
      "ADJ_E3\n",
      "nan\n",
      "TOTPRISN_YRS\n",
      "0.0\n",
      "TOTPRISN2\n",
      "0.0\n",
      "CRIMECODE\n",
      "81.0\n"
     ]
    }
   ],
   "source": [
    "ztdf = zerotime.describe()\n",
    "z = ztdf.transpose()\n",
    "for row_index, row_value in z.iterrows():\n",
    "    print(row_index)\n",
    "    print(row_value['mean'])\n"
   ]
  },
  {
   "cell_type": "code",
   "execution_count": 39,
   "metadata": {},
   "outputs": [
    {
     "data": {
      "text/plain": [
       "ALTMO\n",
       "0    387\n",
       "5      1\n",
       "dtype: int64"
      ]
     },
     "execution_count": 39,
     "metadata": {},
     "output_type": "execute_result"
    }
   ],
   "source": [
    "nvimmigration.value_counts('ALTMO')"
   ]
  },
  {
   "cell_type": "code",
   "execution_count": 40,
   "metadata": {},
   "outputs": [
    {
     "data": {
      "text/plain": [
       "CHAP2\n",
       "8.0     147\n",
       "12.0     72\n",
       "16.0     30\n",
       "24.0     29\n",
       "20.0     16\n",
       "18.0     12\n",
       "15.0      5\n",
       "10.0      5\n",
       "22.0      2\n",
       "14.0      2\n",
       "19.0      1\n",
       "17.0      1\n",
       "dtype: int64"
      ]
     },
     "execution_count": 40,
     "metadata": {},
     "output_type": "execute_result"
    }
   ],
   "source": [
    "nvimmigration.value_counts('CHAP2')"
   ]
  },
  {
   "cell_type": "code",
   "execution_count": 41,
   "metadata": {},
   "outputs": [
    {
     "data": {
      "text/plain": [
       "DISPOSIT\n",
       "1    386\n",
       "4      1\n",
       "3      1\n",
       "dtype: int64"
      ]
     },
     "execution_count": 41,
     "metadata": {},
     "output_type": "execute_result"
    }
   ],
   "source": [
    "nvimmigration.value_counts('DISPOSIT')"
   ]
  },
  {
   "cell_type": "code",
   "execution_count": 55,
   "metadata": {},
   "outputs": [
    {
     "data": {
      "text/plain": [
       "HOMDUM\n",
       "0.0    387\n",
       "1.0      1\n",
       "dtype: int64"
      ]
     },
     "execution_count": 55,
     "metadata": {},
     "output_type": "execute_result"
    }
   ],
   "source": [
    "nvimmigration.value_counts('HOMDUM')\n",
    "# so only 1 person received home detention."
   ]
  },
  {
   "cell_type": "code",
   "execution_count": 43,
   "metadata": {},
   "outputs": [
    {
     "data": {
      "text/plain": [
       "INNOPL1\n",
       "4.0    20\n",
       "3.0    18\n",
       "5.0    15\n",
       "7.0     7\n",
       "2.0     4\n",
       "dtype: int64"
      ]
     },
     "execution_count": 43,
     "metadata": {},
     "output_type": "execute_result"
    }
   ],
   "source": [
    "nvimmigration.value_counts('INNOPL1')"
   ]
  },
  {
   "cell_type": "code",
   "execution_count": 45,
   "metadata": {},
   "outputs": [
    {
     "data": {
      "text/plain": [
       "MAND1\n",
       "4.0    364\n",
       "5.0      3\n",
       "dtype: int64"
      ]
     },
     "execution_count": 45,
     "metadata": {},
     "output_type": "execute_result"
    }
   ],
   "source": [
    "nvimmigration.value_counts('MAND1')\n",
    "# 4 means no count of conviction carries a minimum sentence, and 5 means mand min sentence imposed."
   ]
  },
  {
   "cell_type": "code",
   "execution_count": 46,
   "metadata": {},
   "outputs": [
    {
     "data": {
      "text/plain": [
       "MOHOMDET\n",
       "0.0    387\n",
       "5.0      1\n",
       "dtype: int64"
      ]
     },
     "execution_count": 46,
     "metadata": {},
     "output_type": "execute_result"
    }
   ],
   "source": [
    "nvimmigration.value_counts('MOHOMDET')"
   ]
  },
  {
   "cell_type": "code",
   "execution_count": 48,
   "metadata": {},
   "outputs": [
    {
     "data": {
      "text/plain": [
       "PRESENT\n",
       "1.0    329\n",
       "2.0      2\n",
       "dtype: int64"
      ]
     },
     "execution_count": 48,
     "metadata": {},
     "output_type": "execute_result"
    }
   ],
   "source": [
    "nvimmigration.value_counts('PRESENT')\n",
    "# 1 = in custody, 2 = out on bail/bond"
   ]
  },
  {
   "cell_type": "code",
   "execution_count": 49,
   "metadata": {},
   "outputs": [
    {
     "data": {
      "text/plain": [
       "SENSPLT0\n",
       "0.03     51\n",
       "24.00    16\n",
       "5.00     15\n",
       "15.00    15\n",
       "12.03    14\n",
       "         ..\n",
       "4.96      1\n",
       "7.46      1\n",
       "70.00     1\n",
       "5.07      1\n",
       "5.06      1\n",
       "Length: 154, dtype: int64"
      ]
     },
     "execution_count": 49,
     "metadata": {},
     "output_type": "execute_result"
    }
   ],
   "source": [
    "nvimmigration.value_counts('SENSPLT0')\n",
    "# This is total prison sentence in months including alternatives, including \n",
    "# home detention, community confinement, and intermittent confinement. "
   ]
  },
  {
   "cell_type": "code",
   "execution_count": 133,
   "metadata": {},
   "outputs": [
    {
     "data": {
      "text/plain": [
       "(array([79., 62., 64., 18.,  2.,  0.,  0.,  2.,  0.,  2.]),\n",
       " array([ 0.   ,  2.223,  4.446,  6.669,  8.892, 11.115, 13.338, 15.561,\n",
       "        17.784, 20.007, 22.23 ]),\n",
       " <BarContainer object of 10 artists>)"
      ]
     },
     "execution_count": 133,
     "metadata": {},
     "output_type": "execute_result"
    },
    {
     "data": {
      "image/png": "[encoded data removed]",
      "text/plain": [
       "<Figure size 720x432 with 1 Axes>"
      ]
     },
     "metadata": {
      "needs_background": "light"
     },
     "output_type": "display_data"
    }
   ],
   "source": [
    "# timeserved = nvimmigration.value_counts('TIMSERVD').to_frame().reset_index()\n",
    "# timeserved.columns = ['TIMSERVD', 'count']\n",
    "plt.figure(figsize = (10, 6))\n",
    "plt.hist(zerotime.SENSPLT0, color = '#FC3C3C')"
   ]
  },
  {
   "cell_type": "code",
   "execution_count": 52,
   "metadata": {},
   "outputs": [
    {
     "data": {
      "text/plain": [
       "MOCOMCON\n",
       "0.0    388\n",
       "dtype: int64"
      ]
     },
     "execution_count": 52,
     "metadata": {},
     "output_type": "execute_result"
    }
   ],
   "source": [
    "nvimmigration.value_counts('MOCOMCON')\n",
    "# so none of these people received community confinement"
   ]
  },
  {
   "cell_type": "code",
   "execution_count": 60,
   "metadata": {},
   "outputs": [
    {
     "data": {
      "text/plain": [
       "{0.0: 161,\n",
       " 997.0: 62,\n",
       " 5.0: 11,\n",
       " 7.0: 5,\n",
       " 3.0: 4,\n",
       " 4.0: 3,\n",
       " 6.0: 3,\n",
       " 2.49: 3,\n",
       " 3.66: 3,\n",
       " 4.76: 2,\n",
       " 3.69: 2,\n",
       " 4.95: 2,\n",
       " 2.53: 2,\n",
       " 5.68: 2,\n",
       " 3.81: 2,\n",
       " 2.3: 2,\n",
       " 2.2: 2,\n",
       " 4.14: 2,\n",
       " 2.14: 2,\n",
       " 4.66: 2,\n",
       " 2.0: 2,\n",
       " 3.89: 2,\n",
       " 5.49: 2,\n",
       " 8.0: 2,\n",
       " 3.53: 2,\n",
       " 4.49: 2,\n",
       " 3.26: 2,\n",
       " 5.72: 2,\n",
       " 3.62: 1,\n",
       " 3.55: 1,\n",
       " 3.52: 1,\n",
       " 3.79: 1,\n",
       " 3.68: 1,\n",
       " 3.76: 1,\n",
       " 3.42: 1,\n",
       " 3.84: 1,\n",
       " 3.91: 1,\n",
       " 3.95: 1,\n",
       " 3.98: 1,\n",
       " 4.07: 1,\n",
       " 4.13: 1,\n",
       " 3.49: 1,\n",
       " 20.39: 1,\n",
       " 3.29: 1,\n",
       " 2.26: 1,\n",
       " 0.23: 1,\n",
       " 1.56: 1,\n",
       " 1.61: 1,\n",
       " 1.62: 1,\n",
       " 1.84: 1,\n",
       " 1.87: 1,\n",
       " 1.92: 1,\n",
       " 1.97: 1,\n",
       " 2.04: 1,\n",
       " 2.16: 1,\n",
       " 2.36: 1,\n",
       " 3.23: 1,\n",
       " 2.43: 1,\n",
       " 2.5: 1,\n",
       " 2.56: 1,\n",
       " 2.62: 1,\n",
       " 2.69: 1,\n",
       " 2.82: 1,\n",
       " 2.99: 1,\n",
       " 4.24: 1,\n",
       " 3.03: 1,\n",
       " 3.06: 1,\n",
       " 3.02: 1,\n",
       " 4.5: 1,\n",
       " 4.27: 1,\n",
       " 6.77: 1,\n",
       " 5.76: 1,\n",
       " 5.78: 1,\n",
       " 5.79: 1,\n",
       " 5.89: 1,\n",
       " 5.95: 1,\n",
       " 6.04: 1,\n",
       " 6.21: 1,\n",
       " 6.31: 1,\n",
       " 6.33: 1,\n",
       " 6.43: 1,\n",
       " 6.66: 1,\n",
       " 6.79: 1,\n",
       " 4.36: 1,\n",
       " 7.16: 1,\n",
       " 7.26: 1,\n",
       " 7.46: 1,\n",
       " 7.53: 1,\n",
       " 7.59: 1,\n",
       " 7.92: 1,\n",
       " 8.07: 1,\n",
       " 8.26: 1,\n",
       " 8.89: 1,\n",
       " 9.0: 1,\n",
       " 16.0: 1,\n",
       " 5.75: 1,\n",
       " 5.65: 1,\n",
       " 5.58: 1,\n",
       " 5.53: 1,\n",
       " 4.37: 1,\n",
       " 4.43: 1,\n",
       " 17.0: 1,\n",
       " 22.23: 1,\n",
       " 4.6: 1,\n",
       " 4.62: 1,\n",
       " 4.8: 1,\n",
       " 4.86: 1,\n",
       " 4.89: 1,\n",
       " 4.93: 1,\n",
       " 4.96: 1,\n",
       " 5.06: 1,\n",
       " 5.07: 1,\n",
       " 5.09: 1,\n",
       " 5.13: 1,\n",
       " 5.22: 1,\n",
       " 5.23: 1,\n",
       " 5.26: 1,\n",
       " 5.32: 1,\n",
       " 5.33: 1,\n",
       " 5.39: 1,\n",
       " 5.43: 1,\n",
       " 5.46: 1,\n",
       " 4.57: 1}"
      ]
     },
     "execution_count": 60,
     "metadata": {},
     "output_type": "execute_result"
    }
   ],
   "source": [
    "dict(nvimmigration.value_counts('TIMSERVC'))\n",
    "# this is months credited for time already served. so many of these people received credit for some time,\n",
    "# but about half (161) didn't. \n",
    "# 997 means time served, amount unknown."
   ]
  },
  {
   "cell_type": "code",
   "execution_count": 124,
   "metadata": {},
   "outputs": [],
   "source": [
    "timeserved = nvimmigration.value_counts('TIMSERVD').to_frame().reset_index()\n",
    "timeserved.columns = ['TIMSERVD', 'count']"
   ]
  },
  {
   "cell_type": "code",
   "execution_count": 125,
   "metadata": {},
   "outputs": [
    {
     "data": {
      "text/html": [
       "<div>\n",
       "<style scoped>\n",
       "    .dataframe tbody tr th:only-of-type {\n",
       "        vertical-align: middle;\n",
       "    }\n",
       "\n",
       "    .dataframe tbody tr th {\n",
       "        vertical-align: top;\n",
       "    }\n",
       "\n",
       "    .dataframe thead th {\n",
       "        text-align: right;\n",
       "    }\n",
       "</style>\n",
       "<table border=\"1\" class=\"dataframe\">\n",
       "  <thead>\n",
       "    <tr style=\"text-align: right;\">\n",
       "      <th></th>\n",
       "      <th>TIMSERVD</th>\n",
       "      <th>count</th>\n",
       "    </tr>\n",
       "  </thead>\n",
       "  <tbody>\n",
       "    <tr>\n",
       "      <th>0</th>\n",
       "      <td>0.0</td>\n",
       "      <td>194</td>\n",
       "    </tr>\n",
       "    <tr>\n",
       "      <th>1</th>\n",
       "      <td>997.0</td>\n",
       "      <td>62</td>\n",
       "    </tr>\n",
       "    <tr>\n",
       "      <th>2</th>\n",
       "      <td>15.0</td>\n",
       "      <td>7</td>\n",
       "    </tr>\n",
       "    <tr>\n",
       "      <th>3</th>\n",
       "      <td>8.0</td>\n",
       "      <td>6</td>\n",
       "    </tr>\n",
       "    <tr>\n",
       "      <th>4</th>\n",
       "      <td>16.0</td>\n",
       "      <td>4</td>\n",
       "    </tr>\n",
       "    <tr>\n",
       "      <th>5</th>\n",
       "      <td>29.0</td>\n",
       "      <td>4</td>\n",
       "    </tr>\n",
       "    <tr>\n",
       "      <th>6</th>\n",
       "      <td>27.0</td>\n",
       "      <td>4</td>\n",
       "    </tr>\n",
       "    <tr>\n",
       "      <th>7</th>\n",
       "      <td>7.0</td>\n",
       "      <td>4</td>\n",
       "    </tr>\n",
       "    <tr>\n",
       "      <th>8</th>\n",
       "      <td>20.0</td>\n",
       "      <td>4</td>\n",
       "    </tr>\n",
       "    <tr>\n",
       "      <th>9</th>\n",
       "      <td>19.0</td>\n",
       "      <td>4</td>\n",
       "    </tr>\n",
       "    <tr>\n",
       "      <th>10</th>\n",
       "      <td>2.0</td>\n",
       "      <td>3</td>\n",
       "    </tr>\n",
       "    <tr>\n",
       "      <th>11</th>\n",
       "      <td>24.0</td>\n",
       "      <td>3</td>\n",
       "    </tr>\n",
       "    <tr>\n",
       "      <th>12</th>\n",
       "      <td>23.0</td>\n",
       "      <td>3</td>\n",
       "    </tr>\n",
       "    <tr>\n",
       "      <th>13</th>\n",
       "      <td>116.0</td>\n",
       "      <td>2</td>\n",
       "    </tr>\n",
       "    <tr>\n",
       "      <th>14</th>\n",
       "      <td>142.0</td>\n",
       "      <td>2</td>\n",
       "    </tr>\n",
       "    <tr>\n",
       "      <th>15</th>\n",
       "      <td>65.0</td>\n",
       "      <td>2</td>\n",
       "    </tr>\n",
       "    <tr>\n",
       "      <th>16</th>\n",
       "      <td>21.0</td>\n",
       "      <td>2</td>\n",
       "    </tr>\n",
       "    <tr>\n",
       "      <th>17</th>\n",
       "      <td>126.0</td>\n",
       "      <td>2</td>\n",
       "    </tr>\n",
       "    <tr>\n",
       "      <th>18</th>\n",
       "      <td>14.0</td>\n",
       "      <td>2</td>\n",
       "    </tr>\n",
       "    <tr>\n",
       "      <th>19</th>\n",
       "      <td>13.0</td>\n",
       "      <td>2</td>\n",
       "    </tr>\n",
       "    <tr>\n",
       "      <th>20</th>\n",
       "      <td>12.0</td>\n",
       "      <td>2</td>\n",
       "    </tr>\n",
       "    <tr>\n",
       "      <th>21</th>\n",
       "      <td>11.0</td>\n",
       "      <td>2</td>\n",
       "    </tr>\n",
       "    <tr>\n",
       "      <th>22</th>\n",
       "      <td>10.0</td>\n",
       "      <td>2</td>\n",
       "    </tr>\n",
       "    <tr>\n",
       "      <th>23</th>\n",
       "      <td>173.0</td>\n",
       "      <td>2</td>\n",
       "    </tr>\n",
       "    <tr>\n",
       "      <th>24</th>\n",
       "      <td>4.0</td>\n",
       "      <td>2</td>\n",
       "    </tr>\n",
       "    <tr>\n",
       "      <th>25</th>\n",
       "      <td>77.0</td>\n",
       "      <td>2</td>\n",
       "    </tr>\n",
       "    <tr>\n",
       "      <th>26</th>\n",
       "      <td>57.0</td>\n",
       "      <td>1</td>\n",
       "    </tr>\n",
       "    <tr>\n",
       "      <th>27</th>\n",
       "      <td>67.0</td>\n",
       "      <td>1</td>\n",
       "    </tr>\n",
       "    <tr>\n",
       "      <th>28</th>\n",
       "      <td>70.0</td>\n",
       "      <td>1</td>\n",
       "    </tr>\n",
       "    <tr>\n",
       "      <th>29</th>\n",
       "      <td>74.0</td>\n",
       "      <td>1</td>\n",
       "    </tr>\n",
       "  </tbody>\n",
       "</table>\n",
       "</div>"
      ],
      "text/plain": [
       "    TIMSERVD  count\n",
       "0        0.0    194\n",
       "1      997.0     62\n",
       "2       15.0      7\n",
       "3        8.0      6\n",
       "4       16.0      4\n",
       "5       29.0      4\n",
       "6       27.0      4\n",
       "7        7.0      4\n",
       "8       20.0      4\n",
       "9       19.0      4\n",
       "10       2.0      3\n",
       "11      24.0      3\n",
       "12      23.0      3\n",
       "13     116.0      2\n",
       "14     142.0      2\n",
       "15      65.0      2\n",
       "16      21.0      2\n",
       "17     126.0      2\n",
       "18      14.0      2\n",
       "19      13.0      2\n",
       "20      12.0      2\n",
       "21      11.0      2\n",
       "22      10.0      2\n",
       "23     173.0      2\n",
       "24       4.0      2\n",
       "25      77.0      2\n",
       "26      57.0      1\n",
       "27      67.0      1\n",
       "28      70.0      1\n",
       "29      74.0      1"
      ]
     },
     "execution_count": 125,
     "metadata": {},
     "output_type": "execute_result"
    }
   ],
   "source": [
    "timeserved.head(30)"
   ]
  },
  {
   "cell_type": "code",
   "execution_count": 61,
   "metadata": {},
   "outputs": [
    {
     "data": {
      "text/plain": [
       "TOTDAYS\n",
       "0.0      369\n",
       "1.0       14\n",
       "177.0      1\n",
       "54.0       1\n",
       "20.0       1\n",
       "12.0       1\n",
       "5.0        1\n",
       "dtype: int64"
      ]
     },
     "execution_count": 61,
     "metadata": {},
     "output_type": "execute_result"
    }
   ],
   "source": [
    "nvimmigration.value_counts('TOTDAYS')"
   ]
  },
  {
   "cell_type": "code",
   "execution_count": 127,
   "metadata": {},
   "outputs": [
    {
     "data": {
      "image/png": "[encoded data removed]",
      "text/plain": [
       "<Figure size 864x576 with 1 Axes>"
      ]
     },
     "metadata": {
      "needs_background": "light"
     },
     "output_type": "display_data"
    }
   ],
   "source": [
    "plt.figure(figsize = (12, 8))\n",
    "plt.hist(timeserved.TIMSERVD, bins = 30, color = '#FC3C3C')\n",
    "plt.xlim(0, 250)\n",
    "plt.xlabel('Days Served Prior to Sentencing', fontsize = 14)\n",
    "plt.ylabel('Count Persons', fontsize = 14)\n",
    "plt.title('Nonviolent Immigration Offenders Who Received No Sentence', fontsize = 16)\n",
    "plt.savefig('../Visualizations/Immigration Backstory.png', dpi = 300)"
   ]
  },
  {
   "cell_type": "code",
   "execution_count": 128,
   "metadata": {},
   "outputs": [
    {
     "data": {
      "text/plain": [
       "TIMSERVD\n",
       "0.0      194\n",
       "997.0     62\n",
       "15.0       7\n",
       "8.0        6\n",
       "16.0       4\n",
       "        ... \n",
       "135.0      1\n",
       "137.0      1\n",
       "139.0      1\n",
       "140.0      1\n",
       "93.0       1\n",
       "Length: 86, dtype: int64"
      ]
     },
     "execution_count": 128,
     "metadata": {},
     "output_type": "execute_result"
    }
   ],
   "source": [
    "nvimmigration.value_counts('TIMSERVD')"
   ]
  },
  {
   "cell_type": "code",
   "execution_count": 120,
   "metadata": {},
   "outputs": [
    {
     "data": {
      "text/plain": [
       "(388, 209)"
      ]
     },
     "execution_count": 120,
     "metadata": {},
     "output_type": "execute_result"
    }
   ],
   "source": [
    "nvimmigration.shape"
   ]
  },
  {
   "cell_type": "code",
   "execution_count": 99,
   "metadata": {},
   "outputs": [
    {
     "data": {
      "text/plain": [
       "194"
      ]
     },
     "execution_count": 99,
     "metadata": {},
     "output_type": "execute_result"
    }
   ],
   "source": [
    "388-194"
   ]
  },
  {
   "cell_type": "code",
   "execution_count": 129,
   "metadata": {},
   "outputs": [
    {
     "data": {
      "text/plain": [
       "YR_RANGE\n",
       "zero    194\n",
       "dtype: int64"
      ]
     },
     "execution_count": 129,
     "metadata": {},
     "output_type": "execute_result"
    }
   ],
   "source": [
    "credit = nvimmigration.loc[nvimmigration['TIMSERVD'] > 0]\n",
    "credit.value_counts('YR_RANGE')"
   ]
  },
  {
   "cell_type": "code",
   "execution_count": 130,
   "metadata": {},
   "outputs": [
    {
     "data": {
      "text/plain": [
       "count    132.000000\n",
       "mean      70.492424\n",
       "std       65.501180\n",
       "min        1.000000\n",
       "25%       15.000000\n",
       "50%       29.000000\n",
       "75%      129.250000\n",
       "max      241.000000\n",
       "Name: TIMSERVD, dtype: float64"
      ]
     },
     "execution_count": 130,
     "metadata": {},
     "output_type": "execute_result"
    }
   ],
   "source": [
    "credit = credit.loc[credit['TIMSERVC'] != 997]\n",
    "credit.TIMSERVD.describe()"
   ]
  },
  {
   "cell_type": "code",
   "execution_count": 131,
   "metadata": {},
   "outputs": [
    {
     "data": {
      "text/plain": [
       "count    132.000000\n",
       "mean       4.580985\n",
       "std        2.652946\n",
       "min        0.230000\n",
       "25%        3.187500\n",
       "50%        4.315000\n",
       "75%        5.490000\n",
       "max       22.230000\n",
       "Name: TIMSERVC, dtype: float64"
      ]
     },
     "execution_count": 131,
     "metadata": {},
     "output_type": "execute_result"
    }
   ],
   "source": [
    "credit.TIMSERVC.describe()"
   ]
  },
  {
   "cell_type": "code",
   "execution_count": 135,
   "metadata": {},
   "outputs": [
    {
     "data": {
      "text/plain": [
       "CITIZEN\n",
       "3.0    380\n",
       "2.0      4\n",
       "4.0      3\n",
       "1.0      1\n",
       "dtype: int64"
      ]
     },
     "execution_count": 135,
     "metadata": {},
     "output_type": "execute_result"
    }
   ],
   "source": [
    "nvimmigration.value_counts('CITIZEN')\n",
    "# 1 = US Citizen\n",
    "# 2 = Legal Alien\n",
    "# 3 = Illegal Alien\n",
    "# 4 = Not a US Citizen"
   ]
  },
  {
   "cell_type": "markdown",
   "metadata": {},
   "source": [
    "## So, of these 388 nonviolent immigration offenders, 375 (96.6%) are not legal residents. As such, it's likely that many of them were deported."
   ]
  },
  {
   "cell_type": "code",
   "execution_count": null,
   "metadata": {},
   "outputs": [],
   "source": []
  }
 ],
 "metadata": {
  "kernelspec": {
   "display_name": "Python 3",
   "language": "python",
   "name": "python3"
  },
  "language_info": {
   "codemirror_mode": {
    "name": "ipython",
    "version": 3
   },
   "file_extension": ".py",
   "mimetype": "text/x-python",
   "name": "python",
   "nbconvert_exporter": "python",
   "pygments_lexer": "ipython3",
   "version": "3.8.5"
  }
 },
 "nbformat": 4,
 "nbformat_minor": 4
}
