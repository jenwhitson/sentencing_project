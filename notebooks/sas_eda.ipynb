{
 "cells": [
  {
   "cell_type": "code",
   "execution_count": 2,
   "metadata": {},
   "outputs": [],
   "source": [
    "import pandas as pd\n",
    "import matplotlib.pyplot as plt\n",
    "import seaborn as sns\n",
    "\n",
    "#this is a python magic function to automatically show matplotlib plots\n",
    "%matplotlib inline "
   ]
  },
  {
   "cell_type": "code",
   "execution_count": 10,
   "metadata": {
    "scrolled": true
   },
   "outputs": [],
   "source": [
    "opafy15 = pd.read_csv('../data/opafy15trim.csv')\n",
    "opafy16 = pd.read_csv('../data/opafy16trim.csv')\n",
    "opafy17 = pd.read_csv('../data/opafy17trim.csv')\n",
    "opafy18 = pd.read_csv('../data/opafy18trim.csv')\n",
    "opafy19 = pd.read_csv('../data/opafy19trim.csv')"
   ]
  },
  {
   "cell_type": "code",
   "execution_count": 11,
   "metadata": {},
   "outputs": [],
   "source": [
    "opafy15['Year'] = 2015\n",
    "opafy16['Year'] = 2016\n",
    "opafy17['Year'] = 2017\n",
    "opafy18['Year'] = 2018\n",
    "opafy19['Year'] = 2019"
   ]
  },
  {
   "cell_type": "code",
   "execution_count": 7,
   "metadata": {},
   "outputs": [
    {
     "data": {
      "text/plain": [
       "ZONE         3300\n",
       "CHP2TXT1    67603\n",
       "AMTFINEC        0\n",
       "AMTREST       657\n",
       "AMTTOTAL        0\n",
       "            ...  \n",
       "TEROR1       6385\n",
       "USKID1       6385\n",
       "VULVCT1      6381\n",
       "RLEAS1       6430\n",
       "HUMAN1       6826\n",
       "Length: 167, dtype: int64"
      ]
     },
     "execution_count": 7,
     "metadata": {},
     "output_type": "execute_result"
    }
   ],
   "source": [
    "opafy15.isnull().sum()"
   ]
  },
  {
   "cell_type": "code",
   "execution_count": 9,
   "metadata": {},
   "outputs": [
    {
     "name": "stdout",
     "output_type": "stream",
     "text": [
      "<class 'pandas.core.frame.DataFrame'>\n",
      "RangeIndex: 71003 entries, 0 to 71002\n",
      "Columns: 167 entries, ZONE to HUMAN1\n",
      "dtypes: float64(122), int64(43), object(2)\n",
      "memory usage: 90.5+ MB\n"
     ]
    }
   ],
   "source": [
    "opafy15.info()"
   ]
  },
  {
   "cell_type": "code",
   "execution_count": null,
   "metadata": {},
   "outputs": [],
   "source": []
  }
 ],
 "metadata": {
  "kernelspec": {
   "display_name": "Python 3",
   "language": "python",
   "name": "python3"
  },
  "language_info": {
   "codemirror_mode": {
    "name": "ipython",
    "version": 3
   },
   "file_extension": ".py",
   "mimetype": "text/x-python",
   "name": "python",
   "nbconvert_exporter": "python",
   "pygments_lexer": "ipython3",
   "version": "3.8.5"
  }
 },
 "nbformat": 4,
 "nbformat_minor": 4
}
